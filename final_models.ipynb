{
 "cells": [
  {
   "cell_type": "code",
   "execution_count": 1,
   "id": "799d990f",
   "metadata": {},
   "outputs": [],
   "source": [
    "import pandas as pd\n",
    "import numpy as np\n",
    "import string\n",
    "from matplotlib import pyplot as plt\n",
    "from sklearn.model_selection import train_test_split\n",
    "from sklearn.metrics import accuracy_score\n",
    "from sklearn.metrics import precision_score\n",
    "from sklearn.metrics import recall_score\n",
    "from sklearn.feature_extraction.text import CountVectorizer\n",
    "from sklearn.feature_extraction.text import TfidfTransformer\n",
    "from sklearn.linear_model import LogisticRegression\n",
    "from sklearn import tree \n",
    "from sklearn import svm \n",
    "from sklearn.neighbors import KNeighborsClassifier\n",
    "from sklearn.ensemble import RandomForestClassifier\n",
    "from sklearn.naive_bayes import GaussianNB"
   ]
  },
  {
   "cell_type": "code",
   "execution_count": 2,
   "id": "3cf50476",
   "metadata": {},
   "outputs": [
    {
     "name": "stdout",
     "output_type": "stream",
     "text": [
      "             category  rating label  \\\n",
      "0  Home_and_Kitchen_5     5.0    CG   \n",
      "1  Home_and_Kitchen_5     5.0    CG   \n",
      "2  Home_and_Kitchen_5     5.0    CG   \n",
      "3  Home_and_Kitchen_5     1.0    CG   \n",
      "4  Home_and_Kitchen_5     5.0    CG   \n",
      "\n",
      "                                               text_  \n",
      "0  Love this!  Well made, sturdy, and very comfor...  \n",
      "1  love it, a great upgrade from the original.  I...  \n",
      "2  This pillow saved my back. I love the look and...  \n",
      "3  Missing information on how to use it, but it i...  \n",
      "4  Very nice set. Good quality. We have had the s...  \n"
     ]
    }
   ],
   "source": [
    "# Using pandas ro load the dataset remotely\n",
    "df = pd.read_csv(\"https://raw.githubusercontent.com/yqian000/OnlineReviewDetection/main/reviews.csv\")\n",
    "print(df.head())"
   ]
  },
  {
   "cell_type": "markdown",
   "id": "7dacb947",
   "metadata": {},
   "source": [
    "### Data preprocessing  "
   ]
  },
  {
   "cell_type": "code",
   "execution_count": 3,
   "id": "c98922f1",
   "metadata": {},
   "outputs": [],
   "source": [
    "\n",
    "# Convert label column to binary 0 and 1: \"CG\" = 1, \"OR\" = 0\n",
    "df.loc[(df.label == 'CG'), 'label'] = 1\n",
    "df.loc[(df.label == 'OR'), 'label'] = 0\n",
    "df['label'] = df['label'].astype('int')\n",
    "\n"
   ]
  },
  {
   "cell_type": "code",
   "execution_count": 4,
   "id": "afb4a7d6",
   "metadata": {},
   "outputs": [],
   "source": [
    "# Create train and test dataset\n",
    "X = df[[\"category\", \"text_\"]]\n",
    "y = df[\"label\"]\n",
    "X_train, X_test, y_train, y_test = train_test_split(X, y, test_size=0.20, random_state=42)"
   ]
  },
  {
   "cell_type": "code",
   "execution_count": 5,
   "id": "da4ab9b8",
   "metadata": {},
   "outputs": [],
   "source": [
    "# Create a small test dataset on one specific product sector \"book\"\n",
    "test_set = pd.concat([X_test, y_test], axis=1) # axis=1 to combine horizontally\n",
    "book_test_set = test_set[test_set['category'] == 'Books_5']\n",
    "X_book_test = book_test_set[[\"category\", \"text_\"]]\n",
    "y_book_test = book_test_set[\"label\"]"
   ]
  },
  {
   "cell_type": "code",
   "execution_count": 6,
   "id": "1dc29aa7",
   "metadata": {},
   "outputs": [],
   "source": [
    "def print_train_test_accuracy(model, trainSet, testSet, testSetSmall):\n",
    "    print(\"Perfomace metrics on entire test set\")\n",
    "    y_pred_train = model.predict(trainSet)\n",
    "    y_pred_test = model.predict(testSet)\n",
    "    \n",
    "    train_accuracy = accuracy_score(y_train, y_pred_train)\n",
    "    test_accuracy = accuracy_score(y_test, y_pred_test)\n",
    "    # precision and recall evaluated on the test set\n",
    "    precision = precision_score(y_test, y_pred_test)\n",
    "    recall = recall_score(y_test, y_pred_test)\n",
    "    print(f\"Train Accuracy: {train_accuracy*100:.2f}%\")\n",
    "    print(f\"Test Accuracy: {test_accuracy*100:.2f}%, Precision: {precision*100:.2f}%, Recall: {recall*100:.2f}%\")\n",
    "    \n",
    "    print(\"\\nPerfomace metrics on one specific product sector: books\")\n",
    "    y_pred_test_small = model.predict(testSetSmall)\n",
    "    test_accuracy_small = accuracy_score(y_book_test, y_pred_test_small)\n",
    "    # precision and recall evaluated on the test set\n",
    "    precision_small = precision_score(y_book_test, y_pred_test_small)\n",
    "    recall_small = recall_score(y_book_test, y_pred_test_small)\n",
    "    print(f\"Test Accuracy: {test_accuracy_small*100:.2f}%, Precision: {precision_small*100:.2f}%, Recall: {recall_small*100:.2f}%\")"
   ]
  },
  {
   "cell_type": "markdown",
   "id": "9d0ae5bf",
   "metadata": {},
   "source": [
    "### Feature Extraction\n",
    "note: should call transform only on the test set to use the same vocabulary as for the training data"
   ]
  },
  {
   "cell_type": "markdown",
   "id": "1c1a514f",
   "metadata": {},
   "source": [
    "#### CountVectorizer + TfidfTransformer"
   ]
  },
  {
   "cell_type": "code",
   "execution_count": 7,
   "id": "2b513082",
   "metadata": {},
   "outputs": [],
   "source": [
    "cv = CountVectorizer()\n",
    "tfidf = TfidfTransformer()\n",
    "\n",
    "# train set\n",
    "cv_train_features = cv.fit_transform(X_train[\"text_\"])\n",
    "tfidf_train_features = tfidf.fit_transform(cv_train_features)\n",
    "\n",
    "# test set\n",
    "cv_test_features = cv.transform(X_test[\"text_\"])\n",
    "tfidf_test_features = tfidf.transform(cv_test_features)\n",
    "\n",
    "# small book test set\n",
    "cv_test_features_small = cv.transform(X_book_test[\"text_\"])\n",
    "tfidf_test_features_small = tfidf.transform(cv_test_features_small)"
   ]
  },
  {
   "cell_type": "markdown",
   "id": "ef2fbea4",
   "metadata": {},
   "source": [
    "### Logistic Regression"
   ]
  },
  {
   "cell_type": "code",
   "execution_count": 8,
   "id": "7386b9d6",
   "metadata": {},
   "outputs": [
    {
     "name": "stdout",
     "output_type": "stream",
     "text": [
      "Perfomace metrics on entire test set\n",
      "Train Accuracy: 92.67%\n",
      "Test Accuracy: 90.10%, Precision: 91.08%, Recall: 88.75%\n",
      "\n",
      "Perfomace metrics on one specific product sector: books\n",
      "Test Accuracy: 89.40%, Precision: 90.67%, Recall: 88.12%\n"
     ]
    }
   ],
   "source": [
    "model = LogisticRegression()\n",
    "model.fit(tfidf_train_features, y_train)\n",
    "print_train_test_accuracy(model, tfidf_train_features, tfidf_test_features, tfidf_test_features_small)\n"
   ]
  },
  {
   "cell_type": "markdown",
   "id": "21a2e1d5",
   "metadata": {},
   "source": [
    "### DecisionTree model"
   ]
  },
  {
   "cell_type": "code",
   "execution_count": 9,
   "id": "9d4aac70",
   "metadata": {},
   "outputs": [
    {
     "name": "stdout",
     "output_type": "stream",
     "text": [
      "Perfomace metrics on entire test set\n",
      "Train Accuracy: 100.00%\n",
      "Test Accuracy: 77.75%, Precision: 76.73%, Recall: 79.23%\n",
      "\n",
      "Perfomace metrics on one specific product sector: books\n",
      "Test Accuracy: 79.89%, Precision: 80.53%, Recall: 79.48%\n"
     ]
    }
   ],
   "source": [
    "model = tree.DecisionTreeClassifier()\n",
    "model.fit(tfidf_train_features, y_train)\n",
    "print_train_test_accuracy(model, tfidf_train_features, tfidf_test_features, tfidf_test_features_small)"
   ]
  },
  {
   "cell_type": "markdown",
   "id": "ff1faabf",
   "metadata": {},
   "source": [
    "### SVM model"
   ]
  },
  {
   "cell_type": "code",
   "execution_count": 10,
   "id": "6dc0818f",
   "metadata": {
    "scrolled": true
   },
   "outputs": [
    {
     "name": "stdout",
     "output_type": "stream",
     "text": [
      "Perfomace metrics on entire test set\n",
      "Train Accuracy: 98.75%\n",
      "Test Accuracy: 91.96%, Precision: 93.29%, Recall: 90.31%\n",
      "\n",
      "Perfomace metrics on one specific product sector: books\n",
      "Test Accuracy: 91.80%, Precision: 93.30%, Recall: 90.28%\n"
     ]
    }
   ],
   "source": [
    "model = svm.SVC()\n",
    "model.fit(tfidf_train_features, y_train)\n",
    "print_train_test_accuracy(model, tfidf_train_features, tfidf_test_features, tfidf_test_features_small)"
   ]
  },
  {
   "cell_type": "markdown",
   "id": "5b8406b1",
   "metadata": {},
   "source": [
    "### KNN model"
   ]
  },
  {
   "cell_type": "code",
   "execution_count": 11,
   "id": "cbd43177",
   "metadata": {
    "scrolled": true
   },
   "outputs": [
    {
     "name": "stdout",
     "output_type": "stream",
     "text": [
      "Perfomace metrics on entire test set\n",
      "Train Accuracy: 62.14%\n",
      "Test Accuracy: 55.69%, Precision: 52.90%, Recall: 98.28%\n",
      "\n",
      "Perfomace metrics on one specific product sector: books\n",
      "Test Accuracy: 54.97%, Precision: 52.93%, Recall: 99.35%\n"
     ]
    }
   ],
   "source": [
    "model = KNeighborsClassifier()\n",
    "model.fit(tfidf_train_features, y_train)\n",
    "print_train_test_accuracy(model, tfidf_train_features, tfidf_test_features, tfidf_test_features_small)"
   ]
  },
  {
   "cell_type": "markdown",
   "id": "b982a7a7",
   "metadata": {},
   "source": [
    "### Random Forest Model"
   ]
  },
  {
   "cell_type": "code",
   "execution_count": 12,
   "id": "6e90792c",
   "metadata": {
    "scrolled": true
   },
   "outputs": [
    {
     "name": "stdout",
     "output_type": "stream",
     "text": [
      "Perfomace metrics on entire test set\n",
      "Train Accuracy: 100.00%\n",
      "Test Accuracy: 88.50%, Precision: 86.86%, Recall: 90.54%\n",
      "\n",
      "Perfomace metrics on one specific product sector: books\n",
      "Test Accuracy: 88.96%, Precision: 87.71%, Recall: 90.93%\n"
     ]
    }
   ],
   "source": [
    "model = RandomForestClassifier()\n",
    "model.fit(tfidf_train_features, y_train)\n",
    "print_train_test_accuracy(model, tfidf_train_features, tfidf_test_features, tfidf_test_features_small)"
   ]
  },
  {
   "cell_type": "markdown",
   "id": "8b43903f",
   "metadata": {},
   "source": [
    "### Naive Bayes model"
   ]
  },
  {
   "cell_type": "code",
   "execution_count": 13,
   "id": "bd81b385",
   "metadata": {},
   "outputs": [],
   "source": [
    "# model = GaussianNB()\n",
    "# model.fit(cv_train_features.toarray(), y_train)\n",
    "# print_train_test_accuracy(model, cv_train_features, cv_test_features, cv_test_features_small)"
   ]
  },
  {
   "cell_type": "code",
   "execution_count": 14,
   "id": "1cb30b18",
   "metadata": {},
   "outputs": [
    {
     "data": {
      "text/plain": [
       "<AxesSubplot:xlabel='rating'>"
      ]
     },
     "execution_count": 14,
     "metadata": {},
     "output_type": "execute_result"
    },
    {
     "data": {
      "image/png": "[encoded data removed]",
      "text/plain": [
       "<Figure size 432x288 with 1 Axes>"
      ]
     },
     "metadata": {
      "needs_background": "light"
     },
     "output_type": "display_data"
    }
   ],
   "source": [
    "new_df=df[['rating','label']]\n",
    "pd.pivot_table(new_df, index = 'rating', columns = 'label',\n",
    "               aggfunc = lambda x: len(x)).plot.bar()"
   ]
  },
  {
   "cell_type": "code",
   "execution_count": 15,
   "id": "24ba79b6",
   "metadata": {},
   "outputs": [],
   "source": [
    "\n",
    "'''Some sentiment analysis'''\n",
    "#sentiment polarity has values ranging from -1 to 1. +1 and -1 means \n",
    "# most positive and most negative respectively. \n",
    "\n",
    "from textblob import TextBlob\n",
    "\n",
    "sentiment_list_0 = []\n",
    "sentiment_list_1 = []\n",
    "for i in range (len(df)):\n",
    "    conv = TextBlob(df.text_[i])\n",
    "    if df.label[i]==0:\n",
    "        sentiment_list_0.append(conv.sentiment.polarity)\n",
    "    if df.label[i]==1:\n",
    "        sentiment_list_1.append(conv.sentiment.polarity)\n",
    "\n"
   ]
  },
  {
   "cell_type": "code",
   "execution_count": 17,
   "id": "c9d64002",
   "metadata": {},
   "outputs": [
    {
     "data": {
      "image/png": "[encoded data removed]",
      "text/plain": [
       "<Figure size 432x288 with 1 Axes>"
      ]
     },
     "metadata": {
      "needs_background": "light"
     },
     "output_type": "display_data"
    }
   ],
   "source": [
    "plt.hist(sentiment_list_0, bins = 70, label = \"mean : \" + str(np.round(np.mean(sentiment_list_0), 2)) +\n",
    "        \"\\nstdev : \" + str(np.round(np.std(sentiment_list_0), 2)))\n",
    "plt.title(\"Sentiment values among fake reviews\")\n",
    "plt.xlabel(\"Sentiment value [-1, 1]\")\n",
    "plt.ylabel(\"Frequency\")\n",
    "plt.legend()\n",
    "plt.show()"
   ]
  },
  {
   "cell_type": "code",
   "execution_count": 18,
   "id": "c7c05989",
   "metadata": {},
   "outputs": [
    {
     "data": {
      "image/png": "[encoded data removed]",
      "text/plain": [
       "<Figure size 432x288 with 1 Axes>"
      ]
     },
     "metadata": {
      "needs_background": "light"
     },
     "output_type": "display_data"
    }
   ],
   "source": [
    "plt.hist(sentiment_list_1, bins = 70, label = \"mean : \" + str(np.round(np.mean(sentiment_list_1), 2)) +\n",
    "        \"\\nstdev : \" + str(np.round(np.std(sentiment_list_1), 2)))\n",
    "plt.title(\"Sentiment values among real reviews\")\n",
    "plt.xlabel(\"Sentiment value [-1, 1]\")\n",
    "plt.ylabel(\"Frequency\")\n",
    "plt.legend()\n",
    "plt.show()"
   ]
  },
  {
   "cell_type": "code",
   "execution_count": null,
   "id": "90a2a7cb",
   "metadata": {},
   "outputs": [],
   "source": []
  }
 ],
 "metadata": {
  "kernelspec": {
   "display_name": "Python 3 (ipykernel)",
   "language": "python",
   "name": "python3"
  },
  "language_info": {
   "codemirror_mode": {
    "name": "ipython",
    "version": 3
   },
   "file_extension": ".py",
   "mimetype": "text/x-python",
   "name": "python",
   "nbconvert_exporter": "python",
   "pygments_lexer": "ipython3",
   "version": "3.9.7"
  }
 },
 "nbformat": 4,
 "nbformat_minor": 5
}
