{
 "cells": [
  {
   "cell_type": "code",
   "execution_count": 1,
   "id": "799d990f",
   "metadata": {},
   "outputs": [
    {
     "name": "stderr",
     "output_type": "stream",
     "text": [
      "[nltk_data] Downloading package stopwords to\n",
      "[nltk_data]     C:\\Users\\llctt\\AppData\\Roaming\\nltk_data...\n",
      "[nltk_data]   Package stopwords is already up-to-date!\n"
     ]
    }
   ],
   "source": [
    "import pandas as pd\n",
    "import numpy as np\n",
    "import string\n",
    "import nltk\n",
    "from matplotlib import pyplot as plt\n",
    "# from nltk.corpus import stopwords\n",
    "# nltk.download(\"stopwords\")\n",
    "from sklearn.model_selection import train_test_split\n",
    "from sklearn.feature_extraction.text import CountVectorizer\n",
    "from sklearn.feature_extraction.text import TfidfTransformer\n",
    "from sklearn import tree \n",
    "from sklearn import svm \n",
    "from sklearn.naive_bayes import GaussianNB\n",
    "from sklearn.neighbors import KNeighborsClassifier\n",
    "import re\n",
    "from nltk.corpus import stopwords\n",
    "from nltk.stem.porter import PorterStemmer\n",
    "from sklearn.naive_bayes import GaussianNB\n",
    "from sklearn.neighbors import KNeighborsClassifier\n",
    "from sklearn.metrics import confusion_matrix\n",
    "from sklearn.metrics import accuracy_score\n",
    "from sklearn.metrics import accuracy_score, recall_score\n",
    "nltk.download('stopwords')\n",
    "\n",
    "import matplotlib\n",
    "import matplotlib.pyplot as plt \n",
    "import seaborn as sns\n",
    "%matplotlib inline\n",
    "sns.set()"
   ]
  },
  {
   "cell_type": "code",
   "execution_count": 2,
   "id": "3cf50476",
   "metadata": {},
   "outputs": [],
   "source": [
    "# Using pandas ro load the dataset remotely\n",
    "df = pd.read_csv(\"https://raw.githubusercontent.com/yqian000/OnlineReviewDetection/main/reviews.csv\")"
   ]
  },
  {
   "cell_type": "markdown",
   "id": "7dacb947",
   "metadata": {},
   "source": [
    "### Data preprocessing  "
   ]
  },
  {
   "cell_type": "code",
   "execution_count": 4,
   "id": "afb4a7d6",
   "metadata": {},
   "outputs": [],
   "source": [
    "# Create train and test dataset\n",
    "X = df[\"text_\"]\n",
    "y = df[\"label\"]\n",
    "X_train, X_test, y_train, y_test = train_test_split(X, y, test_size=0.20, random_state=42)\n"
   ]
  },
  {
   "cell_type": "code",
   "execution_count": 5,
   "id": "1dc29aa7",
   "metadata": {},
   "outputs": [],
   "source": [
    "def print_train_test_accuracy(model, train_pred, test_pred):\n",
    "    train_accuracy = model.score(train_pred, y_train)\n",
    "    test_accuracy = model.score(test_pred, y_test)\n",
    "    print(f\"Train Accuracy: {train_accuracy*100:.2f}%, Test Accuracy: {test_accuracy*100:.2f}%\")"
   ]
  },
  {
   "cell_type": "markdown",
   "id": "9d0ae5bf",
   "metadata": {},
   "source": [
    "### Feature Extraction\n",
    "note: should call transform only on the test set to use the same vocabulary as for the training data"
   ]
  },
  {
   "cell_type": "markdown",
   "id": "1c1a514f",
   "metadata": {},
   "source": [
    "#### CountVectorizer + TfidfTransformer"
   ]
  },
  {
   "cell_type": "code",
   "execution_count": 6,
   "id": "2b513082",
   "metadata": {},
   "outputs": [],
   "source": [
    "cv = CountVectorizer()\n",
    "tfidf = TfidfTransformer()\n",
    "\n",
    "# train set\n",
    "cv_train_features = cv.fit_transform(X_train)\n",
    "tfidf_train_features = tfidf.fit_transform(cv_train_features)\n",
    "\n",
    "# test set\n",
    "cv_test_features = cv.transform(X_test)\n",
    "tfidf_test_features = tfidf.transform(cv_test_features)\n"
   ]
  },
  {
   "cell_type": "markdown",
   "id": "b995efb1",
   "metadata": {},
   "source": [
    "### KNN"
   ]
  },
  {
   "cell_type": "code",
   "execution_count": 9,
   "id": "76eac363",
   "metadata": {
    "scrolled": true
   },
   "outputs": [
    {
     "name": "stderr",
     "output_type": "stream",
     "text": [
      "C:\\Users\\llctt\\anaconda3\\lib\\site-packages\\pandas\\core\\indexing.py:1732: SettingWithCopyWarning: \n",
      "A value is trying to be set on a copy of a slice from a DataFrame\n",
      "\n",
      "See the caveats in the documentation: https://pandas.pydata.org/pandas-docs/stable/user_guide/indexing.html#returning-a-view-versus-a-copy\n",
      "  self._setitem_single_block(indexer, value, name)\n",
      "C:\\Users\\llctt\\anaconda3\\lib\\site-packages\\pandas\\core\\indexing.py:723: SettingWithCopyWarning: \n",
      "A value is trying to be set on a copy of a slice from a DataFrame\n",
      "\n",
      "See the caveats in the documentation: https://pandas.pydata.org/pandas-docs/stable/user_guide/indexing.html#returning-a-view-versus-a-copy\n",
      "  iloc._setitem_with_indexer(indexer, value, self.name)\n"
     ]
    }
   ],
   "source": [
    "new_df=df[['text_',\"label\"]]\n",
    "new_df.loc[new_df[\"label\"]==\"CG\",\"label\"]=1\n",
    "new_df.loc[new_df[\"label\"]==\"OR\",\"label\"]=0\n",
    "X = new_df[\"text_\"]\n",
    "y = new_df[\"label\"]"
   ]
  },
  {
   "cell_type": "code",
   "execution_count": 10,
   "id": "11721c82",
   "metadata": {},
   "outputs": [],
   "source": [
    "corpus = []\n",
    "for i in range(0,len(X)):\n",
    "    review = re.sub('[^a-zA-Z]', ' ', new_df['text_'][i])\n",
    "    review = review.lower()\n",
    "    review = review.split()\n",
    "    ps = PorterStemmer()\n",
    "    review = [ps.stem(word) for word in review if not word in set(stopwords.words('english'))]\n",
    "    review = ' '.join(review)\n",
    "    corpus.append(review)"
   ]
  },
  {
   "cell_type": "code",
   "execution_count": 11,
   "id": "62f21580",
   "metadata": {},
   "outputs": [],
   "source": [
    "cv = CountVectorizer(max_features = 1500)\n",
    "X = cv.fit_transform(corpus).todense()\n",
    "y = df.iloc[:,1].values"
   ]
  },
  {
   "cell_type": "code",
   "execution_count": 13,
   "id": "d61b5272",
   "metadata": {},
   "outputs": [],
   "source": [
    "X_train, X_test, y_train, y_test = train_test_split(X , y, test_size = 0.20, random_state = 0)"
   ]
  },
  {
   "cell_type": "code",
   "execution_count": 35,
   "id": "345fd5bb",
   "metadata": {},
   "outputs": [
    {
     "data": {
      "text/plain": [
       "KNeighborsClassifier()"
      ]
     },
     "execution_count": 35,
     "metadata": {},
     "output_type": "execute_result"
    }
   ],
   "source": [
    "knn = KNeighborsClassifier(n_neighbors=5)\n",
    "knn.fit(X_train, y_train)"
   ]
  },
  {
   "cell_type": "code",
   "execution_count": 36,
   "id": "da4f2489",
   "metadata": {},
   "outputs": [
    {
     "name": "stdout",
     "output_type": "stream",
     "text": [
      "Train accuracy Score is : 22.62%\n"
     ]
    }
   ],
   "source": [
    "y_pred = classifier.predict(X_train)\n",
    "Accuracy_Score = accuracy_score(y_train, y_pred)\n",
    "print(\"Train accuracy Score is :\", str(round(Accuracy_Score*100.0,2))+\"%\")\n"
   ]
  },
  {
   "cell_type": "code",
   "execution_count": 37,
   "id": "eafdca87",
   "metadata": {},
   "outputs": [
    {
     "name": "stdout",
     "output_type": "stream",
     "text": [
      "Test accuracy Score is : 55.27%\n"
     ]
    }
   ],
   "source": [
    "y_pred = knn.predict(X_test)\n",
    "Accuracy_Score = accuracy_score(y_test, y_pred)\n",
    "print(\"Test accuracy Score is :\", str(round(Accuracy_Score*100.0,2))+\"%\")\n"
   ]
  },
  {
   "cell_type": "markdown",
   "id": "801115e5",
   "metadata": {},
   "source": [
    "### Naive Bayes Model"
   ]
  },
  {
   "cell_type": "code",
   "execution_count": 38,
   "id": "07c15823",
   "metadata": {},
   "outputs": [
    {
     "name": "stdout",
     "output_type": "stream",
     "text": [
      "GaussianNB()\n"
     ]
    }
   ],
   "source": [
    "classifier = GaussianNB()\n",
    "classifier.fit(X_train, y_train)\n",
    "print(classifier.fit(X_train, y_train))"
   ]
  },
  {
   "cell_type": "code",
   "execution_count": 39,
   "id": "ce9588dd",
   "metadata": {},
   "outputs": [
    {
     "name": "stdout",
     "output_type": "stream",
     "text": [
      "Test accuracy Score is : 22.62%\n"
     ]
    }
   ],
   "source": [
    "y_pred = classifier.predict(X_train)\n",
    "Accuracy_Score = accuracy_score(y_train, y_pred)\n",
    "print(\"Test accuracy Score is :\", str(round(Accuracy_Score*100.0,2))+\"%\")"
   ]
  },
  {
   "cell_type": "code",
   "execution_count": 40,
   "id": "4b7dab58",
   "metadata": {},
   "outputs": [
    {
     "name": "stdout",
     "output_type": "stream",
     "text": [
      "Train accuracy Score is : 18.96%\n"
     ]
    }
   ],
   "source": [
    "y_pred = classifier.predict(X_test)\n",
    "Accuracy_Score = accuracy_score(y_test, y_pred)\n",
    "print(\"Train accuracy Score is :\", str(round(Accuracy_Score*100.0,2))+\"%\")\n"
   ]
  }
 ],
 "metadata": {
  "kernelspec": {
   "display_name": "Python 3 (ipykernel)",
   "language": "python",
   "name": "python3"
  },
  "language_info": {
   "codemirror_mode": {
    "name": "ipython",
    "version": 3
   },
   "file_extension": ".py",
   "mimetype": "text/x-python",
   "name": "python",
   "nbconvert_exporter": "python",
   "pygments_lexer": "ipython3",
   "version": "3.9.7"
  }
 },
 "nbformat": 4,
 "nbformat_minor": 5
}
