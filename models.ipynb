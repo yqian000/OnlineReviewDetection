{
 "cells": [
  {
   "cell_type": "code",
   "execution_count": 1,
   "id": "799d990f",
   "metadata": {},
   "outputs": [],
   "source": [
    "import pandas as pd\n",
    "import numpy as np\n",
    "from matplotlib import pyplot as plt\n",
    "from sklearn.model_selection import train_test_split"
   ]
  },
  {
   "cell_type": "code",
   "execution_count": 2,
   "id": "3cf50476",
   "metadata": {},
   "outputs": [],
   "source": [
    "# Using pandas ro load the dataset remotely\n",
    "df = pd.read_csv(\"https://raw.githubusercontent.com/yqian000/OnlineReviewDetection/main/reviews.csv\")"
   ]
  },
  {
   "cell_type": "code",
   "execution_count": 4,
   "id": "c29ea473",
   "metadata": {},
   "outputs": [],
   "source": [
    "# Create train and test dataset\n",
    "X = df[[\"category\", \"rating\", \"text_\"]]\n",
    "y = df[\"label\"]\n",
    "X_train, X_test, y_train, y_test = train_test_split(X, y, test_size=0.20, random_state=42)"
   ]
  },
  {
   "cell_type": "code",
   "execution_count": 9,
   "id": "9c36b034",
   "metadata": {},
   "outputs": [
    {
     "data": {
      "text/plain": [
       "(32345, 3)"
      ]
     },
     "execution_count": 9,
     "metadata": {},
     "output_type": "execute_result"
    }
   ],
   "source": [
    "X_train.shape"
   ]
  },
  {
   "cell_type": "code",
   "execution_count": 11,
   "id": "2f6a7940",
   "metadata": {},
   "outputs": [
    {
     "data": {
      "text/plain": [
       "(8087, 3)"
      ]
     },
     "execution_count": 11,
     "metadata": {},
     "output_type": "execute_result"
    }
   ],
   "source": [
    "X_test.shape"
   ]
  }
 ],
 "metadata": {
  "kernelspec": {
   "display_name": "Python 3 (ipykernel)",
   "language": "python",
   "name": "python3"
  },
  "language_info": {
   "codemirror_mode": {
    "name": "ipython",
    "version": 3
   },
   "file_extension": ".py",
   "mimetype": "text/x-python",
   "name": "python",
   "nbconvert_exporter": "python",
   "pygments_lexer": "ipython3",
   "version": "3.9.1"
  }
 },
 "nbformat": 4,
 "nbformat_minor": 5
}
