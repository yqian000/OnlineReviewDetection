{
 "cells": [
  {
   "cell_type": "code",
   "execution_count": 1,
   "id": "799d990f",
   "metadata": {},
   "outputs": [],
   "source": [
    "import pandas as pd\n",
    "import numpy as np\n",
    "import string\n",
    "import nltk\n",
    "from matplotlib import pyplot as plt\n",
    "# from nltk.corpus import stopwords\n",
    "# nltk.download(\"stopwords\")\n",
    "from sklearn.model_selection import train_test_split\n",
    "from sklearn.metrics import accuracy_score\n",
    "from sklearn.metrics import precision_score\n",
    "from sklearn.metrics import recall_score\n",
    "from sklearn.feature_extraction.text import CountVectorizer\n",
    "from sklearn.feature_extraction.text import TfidfTransformer\n",
    "from sklearn import tree \n",
    "from sklearn import svm \n",
    "from sklearn.naive_bayes import GaussianNB"
   ]
  },
  {
   "cell_type": "code",
   "execution_count": 2,
   "id": "3cf50476",
   "metadata": {},
   "outputs": [],
   "source": [
    "# Using pandas ro load the dataset remotely\n",
    "df = pd.read_csv(\"https://raw.githubusercontent.com/yqian000/OnlineReviewDetection/main/reviews.csv\")"
   ]
  },
  {
   "cell_type": "markdown",
   "id": "7dacb947",
   "metadata": {},
   "source": [
    "### Data preprocessing  \n",
    "1. Remove punctuation  \n",
    "2. Remove stopwords"
   ]
  },
  {
   "cell_type": "code",
   "execution_count": 3,
   "id": "9a6aea48",
   "metadata": {},
   "outputs": [
    {
     "data": {
      "text/plain": [
       "'\\ndef clean_text(text):\\n    # remove punctuation\\n    text_not_punc = []\\n    i = 0\\n    for c in text:\\n        if c not in string.punctuation:\\n            text_not_punc.append(c)\\n    # Join characters into string.\\n    text_not_punc = \\'\\'.join(text_not_punc) \\n\\n    # remove stopwords\\n    text_not_punc = list(text_not_punc.split(\" \"))\\n    text_clean = []\\n    for word in text_not_punc:\\n        if word.lower() not in stopwords.words(\\'english\\'):\\n            text_clean.append(word)\\n    return text_clean\\n'"
      ]
     },
     "execution_count": 3,
     "metadata": {},
     "output_type": "execute_result"
    }
   ],
   "source": [
    "'''\n",
    "def clean_text(text):\n",
    "    # remove punctuation\n",
    "    text_not_punc = []\n",
    "    i = 0\n",
    "    for c in text:\n",
    "        if c not in string.punctuation:\n",
    "            text_not_punc.append(c)\n",
    "    # Join characters into string.\n",
    "    text_not_punc = ''.join(text_not_punc) \n",
    "\n",
    "    # remove stopwords\n",
    "    text_not_punc = list(text_not_punc.split(\" \"))\n",
    "    text_clean = []\n",
    "    for word in text_not_punc:\n",
    "        if word.lower() not in stopwords.words('english'):\n",
    "            text_clean.append(word)\n",
    "    return text_clean\n",
    "'''"
   ]
  },
  {
   "cell_type": "code",
   "execution_count": 4,
   "id": "c98922f1",
   "metadata": {},
   "outputs": [],
   "source": [
    "# Convert label column to binary 0 and 1: \"CG\" = 1, \"OR\" = 0\n",
    "df.loc[(df.label == 'CG'), 'label'] = 1\n",
    "df.loc[(df.label == 'OR'), 'label'] = 0\n",
    "df['label'] = df['label'].astype('int')"
   ]
  },
  {
   "cell_type": "code",
   "execution_count": 5,
   "id": "afb4a7d6",
   "metadata": {},
   "outputs": [],
   "source": [
    "# Create train and test dataset\n",
    "X = df[[\"category\", \"text_\"]]\n",
    "y = df[\"label\"]\n",
    "X_train, X_test, y_train, y_test = train_test_split(X, y, test_size=0.20, random_state=42)"
   ]
  },
  {
   "cell_type": "code",
   "execution_count": 6,
   "id": "da4ab9b8",
   "metadata": {},
   "outputs": [],
   "source": [
    "# Create a small test dataset on one specific product sector \"book\"\n",
    "test_set = pd.concat([X_test, y_test], axis=1) # axis=1 to combine horizontally\n",
    "book_test_set = test_set[test_set['category'] == 'Books_5']\n",
    "X_book_test = book_test_set[[\"category\", \"text_\"]]\n",
    "y_book_test = book_test_set[\"label\"]"
   ]
  },
  {
   "cell_type": "code",
   "execution_count": 7,
   "id": "1dc29aa7",
   "metadata": {},
   "outputs": [],
   "source": [
    "def print_train_test_accuracy(model, trainSet, testSet, testSetSmall):\n",
    "    print(\"Perfomace metrics on entire test set\")\n",
    "    y_pred_train = model.predict(trainSet)\n",
    "    y_pred_test = model.predict(testSet)\n",
    "    \n",
    "    train_accuracy = accuracy_score(y_train, y_pred_train)\n",
    "    test_accuracy = accuracy_score(y_test, y_pred_test)\n",
    "    # precision and recall evaluated on the test set\n",
    "    precision = precision_score(y_test, y_pred_test)\n",
    "    recall = recall_score(y_test, y_pred_test)\n",
    "    print(f\"Train Accuracy: {train_accuracy*100:.2f}%\")\n",
    "    print(f\"Test Accuracy: {test_accuracy*100:.2f}%, Precision: {precision*100:.2f}%, Recall: {recall*100:.2f}%\")\n",
    "    \n",
    "    print(\"\\nPerfomace metrics on one specific product sector: books\")\n",
    "    y_pred_test_small = model.predict(testSetSmall)\n",
    "    test_accuracy_small = accuracy_score(y_book_test, y_pred_test_small)\n",
    "    # precision and recall evaluated on the test set\n",
    "    precision_small = precision_score(y_book_test, y_pred_test_small)\n",
    "    recall_small = recall_score(y_book_test, y_pred_test_small)\n",
    "    print(f\"Test Accuracy: {test_accuracy_small*100:.2f}%, Precision: {precision_small*100:.2f}%, Recall: {recall_small*100:.2f}%\")"
   ]
  },
  {
   "cell_type": "markdown",
   "id": "9d0ae5bf",
   "metadata": {},
   "source": [
    "### Feature Extraction\n",
    "note: should call transform only on the test set to use the same vocabulary as for the training data"
   ]
  },
  {
   "cell_type": "markdown",
   "id": "1c1a514f",
   "metadata": {},
   "source": [
    "#### CountVectorizer + TfidfTransformer"
   ]
  },
  {
   "cell_type": "code",
   "execution_count": 8,
   "id": "2b513082",
   "metadata": {},
   "outputs": [],
   "source": [
    "cv = CountVectorizer()\n",
    "tfidf = TfidfTransformer()\n",
    "\n",
    "# train set\n",
    "cv_train_features = cv.fit_transform(X_train[\"text_\"])\n",
    "tfidf_train_features = tfidf.fit_transform(cv_train_features)\n",
    "\n",
    "# test set\n",
    "cv_test_features = cv.transform(X_test[\"text_\"])\n",
    "tfidf_test_features = tfidf.transform(cv_test_features)\n",
    "\n",
    "# small book test set\n",
    "cv_test_features_small = cv.transform(X_book_test[\"text_\"])\n",
    "tfidf_test_features_small = tfidf.transform(cv_test_features_small)"
   ]
  },
  {
   "cell_type": "markdown",
   "id": "21a2e1d5",
   "metadata": {},
   "source": [
    "### DecisionTree model"
   ]
  },
  {
   "cell_type": "code",
   "execution_count": 9,
   "id": "9d4aac70",
   "metadata": {},
   "outputs": [
    {
     "name": "stdout",
     "output_type": "stream",
     "text": [
      "Perfomace metrics on entire test set\n",
      "Train Accuracy: 100.00%\n",
      "Test Accuracy: 78.04%, Precision: 76.72%, Recall: 80.08%\n",
      "\n",
      "Perfomace metrics on one specific product sector: books\n",
      "Test Accuracy: 81.09%, Precision: 81.25%, Recall: 81.43%\n"
     ]
    }
   ],
   "source": [
    "model = tree.DecisionTreeClassifier()\n",
    "model.fit(tfidf_train_features, y_train)\n",
    "print_train_test_accuracy(model, tfidf_train_features, tfidf_test_features, tfidf_test_features_small)"
   ]
  },
  {
   "cell_type": "markdown",
   "id": "ff1faabf",
   "metadata": {},
   "source": [
    "### SVM model"
   ]
  },
  {
   "cell_type": "code",
   "execution_count": 11,
   "id": "6dc0818f",
   "metadata": {},
   "outputs": [
    {
     "name": "stdout",
     "output_type": "stream",
     "text": [
      "Perfomace metrics on entire test set\n",
      "Train Accuracy: 98.75%\n",
      "Test Accuracy: 91.96%, Precision: 93.29%, Recall: 90.31%\n",
      "\n",
      "Perfomace metrics on one specific product sector: books\n",
      "Test Accuracy: 91.80%, Precision: 93.30%, Recall: 90.28%\n"
     ]
    }
   ],
   "source": [
    "model = svm.SVC()\n",
    "model.fit(tfidf_train_features, y_train)\n",
    "print_train_test_accuracy(model, tfidf_train_features, tfidf_test_features, tfidf_test_features_small)"
   ]
  },
  {
   "cell_type": "markdown",
   "id": "8b43903f",
   "metadata": {},
   "source": [
    "### Naive Bayes model"
   ]
  },
  {
   "cell_type": "code",
   "execution_count": null,
   "id": "bd81b385",
   "metadata": {},
   "outputs": [],
   "source": [
    "model = GaussianNB()\n",
    "model.fit(tfidf_train_features.toarray(), y_train)\n",
    "print_train_test_accuracy(model, tfidf_train_features, tfidf_test_features, tfidf_test_features_small)"
   ]
  },
  {
   "cell_type": "code",
   "execution_count": null,
   "id": "60472bdc",
   "metadata": {},
   "outputs": [],
   "source": []
  }
 ],
 "metadata": {
  "kernelspec": {
   "display_name": "Python 3 (ipykernel)",
   "language": "python",
   "name": "python3"
  },
  "language_info": {
   "codemirror_mode": {
    "name": "ipython",
    "version": 3
   },
   "file_extension": ".py",
   "mimetype": "text/x-python",
   "name": "python",
   "nbconvert_exporter": "python",
   "pygments_lexer": "ipython3",
   "version": "3.9.7"
  }
 },
 "nbformat": 4,
 "nbformat_minor": 5
}
