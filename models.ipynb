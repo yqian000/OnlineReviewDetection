{
 "cells": [
  {
   "cell_type": "code",
   "execution_count": 34,
   "id": "799d990f",
   "metadata": {},
   "outputs": [
    {
     "name": "stderr",
     "output_type": "stream",
     "text": [
      "[nltk_data] Downloading package stopwords to\n",
      "[nltk_data]     /Users/yueqian/nltk_data...\n",
      "[nltk_data]   Package stopwords is already up-to-date!\n"
     ]
    }
   ],
   "source": [
    "import pandas as pd\n",
    "import numpy as np\n",
    "import string\n",
    "import nltk\n",
    "from matplotlib import pyplot as plt\n",
    "from nltk.corpus import stopwords\n",
    "nltk.download(\"stopwords\")\n",
    "from sklearn.model_selection import train_test_split\n",
    "from sklearn.feature_extraction.text import CountVectorizer\n",
    "from sklearn.feature_extraction.text import TfidfTransformer\n",
    "from sklearn import svm \n",
    "from sklearn.naive_bayes import GaussianNB"
   ]
  },
  {
   "cell_type": "code",
   "execution_count": 2,
   "id": "3cf50476",
   "metadata": {},
   "outputs": [],
   "source": [
    "# Using pandas ro load the dataset remotely\n",
    "df = pd.read_csv(\"https://raw.githubusercontent.com/yqian000/OnlineReviewDetection/main/reviews.csv\")"
   ]
  },
  {
   "cell_type": "markdown",
   "id": "7dacb947",
   "metadata": {},
   "source": [
    "### Data preprocessing  \n",
    "1. Remove punctuation  \n",
    "2. Remove stopwords"
   ]
  },
  {
   "cell_type": "code",
   "execution_count": 15,
   "id": "9a6aea48",
   "metadata": {},
   "outputs": [
    {
     "data": {
      "text/plain": [
       "['Hi', 'everyone', 'pleasure', 'meet']"
      ]
     },
     "execution_count": 15,
     "metadata": {},
     "output_type": "execute_result"
    }
   ],
   "source": [
    "'''\n",
    "def clean_text(text):\n",
    "    # remove punctuation\n",
    "    text_not_punc = []\n",
    "    i = 0\n",
    "    for c in text:\n",
    "        if c not in string.punctuation:\n",
    "            text_not_punc.append(c)\n",
    "    # Join characters into string.\n",
    "    text_not_punc = ''.join(text_not_punc) \n",
    "\n",
    "    # remove stopwords\n",
    "    text_not_punc = list(text_not_punc.split(\" \"))\n",
    "    text_clean = []\n",
    "    for word in text_not_punc:\n",
    "        if word.lower() not in stopwords.words('english'):\n",
    "            text_clean.append(word)\n",
    "    return text_clean\n",
    "'''"
   ]
  },
  {
   "cell_type": "code",
   "execution_count": 22,
   "id": "afb4a7d6",
   "metadata": {},
   "outputs": [],
   "source": [
    "# Create train and test dataset\n",
    "X = df[\"text_\"]\n",
    "y = df[\"label\"]\n",
    "X_train, X_test, y_train, y_test = train_test_split(X, y, test_size=0.20, random_state=42)"
   ]
  },
  {
   "cell_type": "code",
   "execution_count": 18,
   "id": "1dc29aa7",
   "metadata": {},
   "outputs": [],
   "source": [
    "def print_train_test_accuracy(model, train_pred, test_pred):\n",
    "    train_accuracy = model.score(train_pred, y_train)\n",
    "    test_accuracy = model.score(test_pred, y_test)\n",
    "    print(f\"Train Accuracy: {train_accuracy*100:.2f}%, Test Accuracy: {test_accuracy*100:.2f}%\")"
   ]
  },
  {
   "cell_type": "markdown",
   "id": "9d0ae5bf",
   "metadata": {},
   "source": [
    "### Feature Extraction\n",
    "note: should call transform only on the test set to use the same vocabulary as for the training data"
   ]
  },
  {
   "cell_type": "markdown",
   "id": "1c1a514f",
   "metadata": {},
   "source": [
    "#### CountVectorizer + TfidfTransformer"
   ]
  },
  {
   "cell_type": "code",
   "execution_count": 28,
   "id": "2b513082",
   "metadata": {},
   "outputs": [],
   "source": [
    "# CountVectorizer keeps a dictionary of every word and its respective id, the id relates to the word count\n",
    "cv = CountVectorizer()\n",
    "tfidf = TfidfTransformer()\n",
    "\n",
    "# train set\n",
    "cv_train_features = cv.fit_transform(X_train)\n",
    "tfidf_train_features = tfidf.fit_transform(cv_train_features)\n",
    "\n",
    "# test set\n",
    "cv_test_features = cv.transform(X_test)\n",
    "tfidf_test_features = tfidf.transform(cv_test_features)"
   ]
  },
  {
   "cell_type": "markdown",
   "id": "ff1faabf",
   "metadata": {},
   "source": [
    "### SVM model"
   ]
  },
  {
   "cell_type": "code",
   "execution_count": 29,
   "id": "6dc0818f",
   "metadata": {},
   "outputs": [
    {
     "name": "stdout",
     "output_type": "stream",
     "text": [
      "TfidfTransformer + SVM model\n",
      "Train Accuracy: 98.75%, Test Accuracy: 91.96%\n"
     ]
    }
   ],
   "source": [
    "print(\"SVM model (CountVectorizer + TfidfTransformer)\")\n",
    "model = svm.SVC()\n",
    "model.fit(tfidf_train_features, y_train)\n",
    "print_train_test_accuracy(model, tfidf_train_features, tfidf_test_features)"
   ]
  },
  {
   "cell_type": "markdown",
   "id": "8b43903f",
   "metadata": {},
   "source": [
    "### Naive Bayes model"
   ]
  },
  {
   "cell_type": "code",
   "execution_count": null,
   "id": "bd81b385",
   "metadata": {},
   "outputs": [],
   "source": [
    "model = GaussianNB()\n",
    "model.fit(tfidf_train_features.toarray(), y_train)\n",
    "print_train_test_accuracy(model, tfidf_train_features, tfidf_test_features)"
   ]
  },
  {
   "cell_type": "code",
   "execution_count": null,
   "id": "60472bdc",
   "metadata": {},
   "outputs": [],
   "source": []
  }
 ],
 "metadata": {
  "kernelspec": {
   "display_name": "Python 3 (ipykernel)",
   "language": "python",
   "name": "python3"
  },
  "language_info": {
   "codemirror_mode": {
    "name": "ipython",
    "version": 3
   },
   "file_extension": ".py",
   "mimetype": "text/x-python",
   "name": "python",
   "nbconvert_exporter": "python",
   "pygments_lexer": "ipython3",
   "version": "3.9.1"
  }
 },
 "nbformat": 4,
 "nbformat_minor": 5
}
